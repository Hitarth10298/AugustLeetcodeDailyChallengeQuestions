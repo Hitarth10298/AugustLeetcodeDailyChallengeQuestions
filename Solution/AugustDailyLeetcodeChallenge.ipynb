{
  "nbformat": 4,
  "nbformat_minor": 0,
  "metadata": {
    "colab": {
      "name": "AugustDailyLeetcodeChallenge.ipynb",
      "provenance": []
    },
    "kernelspec": {
      "name": "python3",
      "display_name": "Python 3"
    },
    "language_info": {
      "name": "python"
    }
  },
  "cells": [
    {
      "cell_type": "markdown",
      "source": [
        "Aug 1\n",
        "\n",
        "You are given a string s. We want to partition the string into as many parts as possible so that each letter appears in at most one part.\n",
        "\n",
        "Note that the partition is done so that after concatenating all the parts in order, the resultant string should be s.\n",
        "\n",
        "Return a list of integers representing the size of these parts."
      ],
      "metadata": {
        "id": "qvJXgwky1mer"
      }
    },
    {
      "cell_type": "code",
      "source": [
        "class Solution:\n",
        "    def partitionLabels(self, s: str):\n",
        "\n",
        "      last = {c: i for i, c in enumerate(s)}\n",
        "      j = anchor = 0\n",
        "      ans = []\n",
        "      for i, c in enumerate(s):\n",
        "\n",
        "\n",
        "        j = max(j, last[c])\n",
        "        if i == j:\n",
        "\n",
        "          ans.append(i-anchor+1)\n",
        "          anchor = i+1\n",
        "      return ans"
      ],
      "metadata": {
        "id": "l_Q6pi-n1o8y"
      },
      "execution_count": null,
      "outputs": []
    },
    {
      "cell_type": "markdown",
      "source": [
        "Aug 2\n",
        "\n",
        "Given an n x n matrix where each of the rows and columns is sorted in ascending order, return the kth smallest element in the matrix.\n",
        "\n",
        "Note that it is the kth smallest element in the sorted order, not the kth distinct element.\n",
        "\n",
        "You must find a solution with a memory complexity better than O(n2)."
      ],
      "metadata": {
        "id": "zN_GgwAB4vyT"
      }
    },
    {
      "cell_type": "code",
      "source": [
        "import bisect\n",
        "class Solution:\n",
        "    def kthSmallest(self, matrix, k: int) -> int:\n",
        "        lst = []\n",
        "        \n",
        "        for i in matrix:\n",
        "            for j in i:\n",
        "                bisect.insort(lst, j)\n",
        "        return lst[k-1]"
      ],
      "metadata": {
        "id": "VD2VgSaR17mS"
      },
      "execution_count": null,
      "outputs": []
    },
    {
      "cell_type": "markdown",
      "source": [
        "Aug 3\n",
        "\n",
        "You are implementing a program to use as your calendar. We can add a new event if adding the event will not cause a double booking.\n",
        "\n",
        "A double booking happens when two events have some non-empty intersection (i.e., some moment is common to both events.).\n",
        "\n",
        "The event can be represented as a pair of integers start and end that represents a booking on the half-open interval [start, end), the range of real numbers x such that start <= x < end.\n",
        "\n",
        "Implement the MyCalendar class:\n",
        "\n",
        "MyCalendar() Initializes the calendar object.\n",
        "boolean book(int start, int end) Returns true if the event can be added to the calendar successfully without causing a double booking. Otherwise, return false and do not add the event to the calendar."
      ],
      "metadata": {
        "id": "iz9-xRBP6nCz"
      }
    },
    {
      "cell_type": "code",
      "source": [
        "import collections\n",
        "\n",
        "class MyCalendar:\n",
        "\n",
        "    def __init__(self):\n",
        "        self.calendar = []\n",
        "\n",
        "    def book(self, start: int, end: int):\n",
        "\n",
        "      for s, e in self.calendar:\n",
        "          if s < end and start < e:\n",
        "              return False\n",
        "      self.calendar.append((start, end))\n",
        "      return True"
      ],
      "metadata": {
        "id": "y10Y281u5pF7"
      },
      "execution_count": null,
      "outputs": []
    },
    {
      "cell_type": "markdown",
      "source": [
        "Aug 4\n",
        "\n",
        "There is a special square room with mirrors on each of the four walls. Except for the southwest corner, there are receptors on each of the remaining corners, numbered 0, 1, and 2.\n",
        "\n",
        "The square room has walls of length p and a laser ray from the southwest corner first meets the east wall at a distance q from the 0th receptor.\n",
        "\n",
        "Given the two integers p and q, return the number of the receptor that the ray meets first.\n",
        "\n",
        "The test cases are guaranteed so that the ray will meet a receptor eventually."
      ],
      "metadata": {
        "id": "7GMEp2Nr7UnI"
      }
    },
    {
      "cell_type": "code",
      "source": [
        "class Solution:\n",
        "    def mirrorReflection(self, p: int, q: int) -> int:\n",
        "        while p % 2 == 0 and q % 2 == 0: p, q = p / 2, q / 2\n",
        "        return 1 - p % 2 + q % 2"
      ],
      "metadata": {
        "id": "RDIFb5CH7EwX"
      },
      "execution_count": null,
      "outputs": []
    },
    {
      "cell_type": "markdown",
      "source": [
        "Aug 5\n",
        "\n",
        "Given an array of distinct integers nums and a target integer target, return the number of possible combinations that add up to target.\n",
        "\n",
        "The test cases are generated so that the answer can fit in a 32-bit integer."
      ],
      "metadata": {
        "id": "FNrwE4OA8vcH"
      }
    },
    {
      "cell_type": "code",
      "source": [
        "class Solution:\n",
        "    def combinationSum4(self, nums, target: int) -> int:\n",
        "        dp = [0]*(target+1)\n",
        "        dp[0] = 1\n",
        "        \n",
        "        for i in range(1, target+1):\n",
        "            for num in nums:\n",
        "                num_before = i-num\n",
        "                if num_before >= 0:\n",
        "                    dp[i] += dp[num_before]\n",
        "        return dp[target]"
      ],
      "metadata": {
        "id": "yMtD0mGq8rSu"
      },
      "execution_count": null,
      "outputs": []
    },
    {
      "cell_type": "markdown",
      "source": [
        "Aug 6\n",
        "\n",
        "There are buckets buckets of liquid, where exactly one of the buckets is poisonous. To figure out which one is poisonous, you feed some number of (poor) pigs the liquid to see whether they will die or not. Unfortunately, you only have minutesToTest minutes to determine which bucket is poisonous.\n",
        "\n",
        "You can feed the pigs according to these steps:\n",
        "\n",
        "Choose some live pigs to feed.\n",
        "For each pig, choose which buckets to feed it. The pig will consume all the chosen buckets simultaneously and will take no time.\n",
        "Wait for minutesToDie minutes. You may not feed any other pigs during this time.\n",
        "After minutesToDie minutes have passed, any pigs that have been fed the poisonous bucket will die, and all others will survive.\n",
        "Repeat this process until you run out of time.\n",
        "Given buckets, minutesToDie, and minutesToTest, return the minimum number of pigs needed to figure out which bucket is poisonous within the allotted time."
      ],
      "metadata": {
        "id": "xUrJnBPT9AJ7"
      }
    },
    {
      "cell_type": "code",
      "source": [
        "import math\n",
        "class Solution:\n",
        "    def poorPigs(self, buckets: int, minutesToDie: int, minutesToTest: int) -> int:\n",
        "        tmp = math.log2(buckets)\n",
        "        t = math.ceil(minutesToTest/minutesToDie)\n",
        "        \n",
        "        if t == 1:\n",
        "            return math.ceil(tmp)\n",
        "        return math.ceil(tmp/math.log2(t+1))"
      ],
      "metadata": {
        "id": "btqtf7vP8-1Q"
      },
      "execution_count": null,
      "outputs": []
    },
    {
      "cell_type": "markdown",
      "source": [
        "Aug 7\n",
        "\n",
        "Given an integer n, your task is to count how many strings of length n can be formed under the following rules:\n",
        "\n",
        "Each character is a lower case vowel ('a', 'e', 'i', 'o', 'u')\n",
        "Each vowel 'a' may only be followed by an 'e'.\n",
        "Each vowel 'e' may only be followed by an 'a' or an 'i'.\n",
        "Each vowel 'i' may not be followed by another 'i'.\n",
        "Each vowel 'o' may only be followed by an 'i' or a 'u'.\n",
        "Each vowel 'u' may only be followed by an 'a'.\n",
        "Since the answer may be too large, return it modulo 10^9 + 7."
      ],
      "metadata": {
        "id": "WO72k2aE9xVY"
      }
    },
    {
      "cell_type": "code",
      "source": [
        "class Solution:\n",
        "    def countVowelPermutation(self, n: int) -> int:\n",
        "        moduler = math.pow(10, 9) + 7\n",
        "        a,e,i,o,u = [1]*5\n",
        "        for _ in range(n-1):\n",
        "            a,e,i,o,u = map(lambda x: x%moduler, [(e+i+u), (a+i), (e+o), (i), (i+o)])\n",
        "        return int((a+e+i+o+u)%moduler)"
      ],
      "metadata": {
        "id": "_lPPAP0t9u0g"
      },
      "execution_count": null,
      "outputs": []
    },
    {
      "cell_type": "markdown",
      "source": [
        "Aug 8\n",
        "\n",
        "Given an integer array nums, return the length of the longest strictly increasing subsequence.\n",
        "\n",
        "A subsequence is a sequence that can be derived from an array by deleting some or no elements without changing the order of the remaining elements. For example, [3,6,2,7] is a subsequence of the array [0,3,1,6,2,2,7]."
      ],
      "metadata": {
        "id": "nU0te48emmio"
      }
    },
    {
      "cell_type": "code",
      "source": [
        "class Solution:\n",
        "    def lengthOfLIS(self, nums) -> int:\n",
        "        res = []\n",
        "        \n",
        "        def binarySearch(l, r, target):\n",
        "            nonlocal res\n",
        "            \n",
        "            if l == r:\n",
        "                return l\n",
        "            m = (r-l) // 2 + l\n",
        "            \n",
        "            if res[m] == target:\n",
        "                return m\n",
        "            elif res[m] < target:\n",
        "                return binarySearch(m+1, r, target)\n",
        "            else:\n",
        "                return binarySearch(l, m, target)\n",
        "            \n",
        "        for n in nums:\n",
        "            if not res or res[-1] < n:\n",
        "                res.append(n)\n",
        "                continue\n",
        "                \n",
        "            i = binarySearch(0, len(res)-1, n)\n",
        "            res[i] = n\n",
        "        return len(res)"
      ],
      "metadata": {
        "id": "jEMCLFqT-B_5"
      },
      "execution_count": null,
      "outputs": []
    },
    {
      "cell_type": "markdown",
      "source": [
        "Aug 9\n",
        "\n",
        "Given an array of unique integers, arr, where each integer arr[i] is strictly greater than 1.\n",
        "\n",
        "We make a binary tree using these integers, and each number may be used for any number of times. Each non-leaf node's value should be equal to the product of the values of its children.\n",
        "\n",
        "Return the number of binary trees we can make. The answer may be too large so return the answer modulo 109 + 7."
      ],
      "metadata": {
        "id": "qe2uOsdzxbSB"
      }
    },
    {
      "cell_type": "code",
      "source": [
        "class Solution:\n",
        "    def numFactoredBinaryTrees(self, arr) -> int:\n",
        "        mod = 10**9+7\n",
        "        n = len(arr)\n",
        "        arr.sort()\n",
        "        dp = [1]*n\n",
        "        index = {x: i for i, x in enumerate(arr)}\n",
        "        for i, x in enumerate(arr):\n",
        "            for j in range(i):\n",
        "                if x%arr[j] == 0:\n",
        "                    right = x/arr[j]\n",
        "                    if right in index:\n",
        "                        dp[i] += dp[j] * dp[index[right]]\n",
        "                        dp[i] %= mod\n",
        "        return sum(dp)%mod"
      ],
      "metadata": {
        "id": "q24Nm6WLm6JS"
      },
      "execution_count": 1,
      "outputs": []
    },
    {
      "cell_type": "code",
      "source": [
        ""
      ],
      "metadata": {
        "id": "d5M9kT7exm38"
      },
      "execution_count": null,
      "outputs": []
    }
  ]
}