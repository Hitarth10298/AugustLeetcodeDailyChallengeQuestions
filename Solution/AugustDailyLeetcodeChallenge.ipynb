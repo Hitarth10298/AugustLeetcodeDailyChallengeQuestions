{
  "nbformat": 4,
  "nbformat_minor": 0,
  "metadata": {
    "colab": {
      "name": "AugustDailyLeetcodeChallenge.ipynb",
      "provenance": []
    },
    "kernelspec": {
      "name": "python3",
      "display_name": "Python 3"
    },
    "language_info": {
      "name": "python"
    }
  },
  "cells": [
    {
      "cell_type": "markdown",
      "source": [
        "Aug 1\n",
        "\n",
        "You are given a string s. We want to partition the string into as many parts as possible so that each letter appears in at most one part.\n",
        "\n",
        "Note that the partition is done so that after concatenating all the parts in order, the resultant string should be s.\n",
        "\n",
        "Return a list of integers representing the size of these parts."
      ],
      "metadata": {
        "id": "qvJXgwky1mer"
      }
    },
    {
      "cell_type": "code",
      "source": [
        "class Solution:\n",
        "    def partitionLabels(self, s: str):\n",
        "\n",
        "      last = {c: i for i, c in enumerate(s)}\n",
        "      j = anchor = 0\n",
        "      ans = []\n",
        "      for i, c in enumerate(s):\n",
        "\n",
        "\n",
        "        j = max(j, last[c])\n",
        "        if i == j:\n",
        "\n",
        "          ans.append(i-anchor+1)\n",
        "          anchor = i+1\n",
        "      return ans"
      ],
      "metadata": {
        "id": "l_Q6pi-n1o8y"
      },
      "execution_count": null,
      "outputs": []
    },
    {
      "cell_type": "markdown",
      "source": [
        "Aug 2\n",
        "\n",
        "Given an n x n matrix where each of the rows and columns is sorted in ascending order, return the kth smallest element in the matrix.\n",
        "\n",
        "Note that it is the kth smallest element in the sorted order, not the kth distinct element.\n",
        "\n",
        "You must find a solution with a memory complexity better than O(n2)."
      ],
      "metadata": {
        "id": "zN_GgwAB4vyT"
      }
    },
    {
      "cell_type": "code",
      "source": [
        "import bisect\n",
        "class Solution:\n",
        "    def kthSmallest(self, matrix, k: int) -> int:\n",
        "        lst = []\n",
        "        \n",
        "        for i in matrix:\n",
        "            for j in i:\n",
        "                bisect.insort(lst, j)\n",
        "        return lst[k-1]"
      ],
      "metadata": {
        "id": "VD2VgSaR17mS"
      },
      "execution_count": null,
      "outputs": []
    },
    {
      "cell_type": "markdown",
      "source": [
        "Aug 3\n",
        "\n",
        "You are implementing a program to use as your calendar. We can add a new event if adding the event will not cause a double booking.\n",
        "\n",
        "A double booking happens when two events have some non-empty intersection (i.e., some moment is common to both events.).\n",
        "\n",
        "The event can be represented as a pair of integers start and end that represents a booking on the half-open interval [start, end), the range of real numbers x such that start <= x < end.\n",
        "\n",
        "Implement the MyCalendar class:\n",
        "\n",
        "MyCalendar() Initializes the calendar object.\n",
        "boolean book(int start, int end) Returns true if the event can be added to the calendar successfully without causing a double booking. Otherwise, return false and do not add the event to the calendar."
      ],
      "metadata": {
        "id": "iz9-xRBP6nCz"
      }
    },
    {
      "cell_type": "code",
      "source": [
        "import collections\n",
        "\n",
        "class MyCalendar:\n",
        "\n",
        "    def __init__(self):\n",
        "        self.calendar = []\n",
        "\n",
        "    def book(self, start: int, end: int):\n",
        "\n",
        "      for s, e in self.calendar:\n",
        "          if s < end and start < e:\n",
        "              return False\n",
        "      self.calendar.append((start, end))\n",
        "      return True"
      ],
      "metadata": {
        "id": "y10Y281u5pF7"
      },
      "execution_count": null,
      "outputs": []
    },
    {
      "cell_type": "markdown",
      "source": [
        "Aug 4\n",
        "\n",
        "There is a special square room with mirrors on each of the four walls. Except for the southwest corner, there are receptors on each of the remaining corners, numbered 0, 1, and 2.\n",
        "\n",
        "The square room has walls of length p and a laser ray from the southwest corner first meets the east wall at a distance q from the 0th receptor.\n",
        "\n",
        "Given the two integers p and q, return the number of the receptor that the ray meets first.\n",
        "\n",
        "The test cases are guaranteed so that the ray will meet a receptor eventually."
      ],
      "metadata": {
        "id": "7GMEp2Nr7UnI"
      }
    },
    {
      "cell_type": "code",
      "source": [
        "class Solution:\n",
        "    def mirrorReflection(self, p: int, q: int) -> int:\n",
        "        while p % 2 == 0 and q % 2 == 0: p, q = p / 2, q / 2\n",
        "        return 1 - p % 2 + q % 2"
      ],
      "metadata": {
        "id": "RDIFb5CH7EwX"
      },
      "execution_count": null,
      "outputs": []
    },
    {
      "cell_type": "markdown",
      "source": [
        "Aug 5\n",
        "\n",
        "Given an array of distinct integers nums and a target integer target, return the number of possible combinations that add up to target.\n",
        "\n",
        "The test cases are generated so that the answer can fit in a 32-bit integer."
      ],
      "metadata": {
        "id": "FNrwE4OA8vcH"
      }
    },
    {
      "cell_type": "code",
      "source": [
        "class Solution:\n",
        "    def combinationSum4(self, nums, target: int) -> int:\n",
        "        dp = [0]*(target+1)\n",
        "        dp[0] = 1\n",
        "        \n",
        "        for i in range(1, target+1):\n",
        "            for num in nums:\n",
        "                num_before = i-num\n",
        "                if num_before >= 0:\n",
        "                    dp[i] += dp[num_before]\n",
        "        return dp[target]"
      ],
      "metadata": {
        "id": "yMtD0mGq8rSu"
      },
      "execution_count": null,
      "outputs": []
    },
    {
      "cell_type": "markdown",
      "source": [
        "Aug 6\n",
        "\n",
        "There are buckets buckets of liquid, where exactly one of the buckets is poisonous. To figure out which one is poisonous, you feed some number of (poor) pigs the liquid to see whether they will die or not. Unfortunately, you only have minutesToTest minutes to determine which bucket is poisonous.\n",
        "\n",
        "You can feed the pigs according to these steps:\n",
        "\n",
        "Choose some live pigs to feed.\n",
        "For each pig, choose which buckets to feed it. The pig will consume all the chosen buckets simultaneously and will take no time.\n",
        "Wait for minutesToDie minutes. You may not feed any other pigs during this time.\n",
        "After minutesToDie minutes have passed, any pigs that have been fed the poisonous bucket will die, and all others will survive.\n",
        "Repeat this process until you run out of time.\n",
        "Given buckets, minutesToDie, and minutesToTest, return the minimum number of pigs needed to figure out which bucket is poisonous within the allotted time."
      ],
      "metadata": {
        "id": "xUrJnBPT9AJ7"
      }
    },
    {
      "cell_type": "code",
      "source": [
        "import math\n",
        "class Solution:\n",
        "    def poorPigs(self, buckets: int, minutesToDie: int, minutesToTest: int) -> int:\n",
        "        tmp = math.log2(buckets)\n",
        "        t = math.ceil(minutesToTest/minutesToDie)\n",
        "        \n",
        "        if t == 1:\n",
        "            return math.ceil(tmp)\n",
        "        return math.ceil(tmp/math.log2(t+1))"
      ],
      "metadata": {
        "id": "btqtf7vP8-1Q"
      },
      "execution_count": null,
      "outputs": []
    },
    {
      "cell_type": "markdown",
      "source": [
        "Aug 7\n",
        "\n",
        "Given an integer n, your task is to count how many strings of length n can be formed under the following rules:\n",
        "\n",
        "Each character is a lower case vowel ('a', 'e', 'i', 'o', 'u')\n",
        "Each vowel 'a' may only be followed by an 'e'.\n",
        "Each vowel 'e' may only be followed by an 'a' or an 'i'.\n",
        "Each vowel 'i' may not be followed by another 'i'.\n",
        "Each vowel 'o' may only be followed by an 'i' or a 'u'.\n",
        "Each vowel 'u' may only be followed by an 'a'.\n",
        "Since the answer may be too large, return it modulo 10^9 + 7."
      ],
      "metadata": {
        "id": "WO72k2aE9xVY"
      }
    },
    {
      "cell_type": "code",
      "source": [
        "class Solution:\n",
        "    def countVowelPermutation(self, n: int) -> int:\n",
        "        moduler = math.pow(10, 9) + 7\n",
        "        a,e,i,o,u = [1]*5\n",
        "        for _ in range(n-1):\n",
        "            a,e,i,o,u = map(lambda x: x%moduler, [(e+i+u), (a+i), (e+o), (i), (i+o)])\n",
        "        return int((a+e+i+o+u)%moduler)"
      ],
      "metadata": {
        "id": "_lPPAP0t9u0g"
      },
      "execution_count": null,
      "outputs": []
    },
    {
      "cell_type": "markdown",
      "source": [
        "Aug 8\n",
        "\n",
        "Given an integer array nums, return the length of the longest strictly increasing subsequence.\n",
        "\n",
        "A subsequence is a sequence that can be derived from an array by deleting some or no elements without changing the order of the remaining elements. For example, [3,6,2,7] is a subsequence of the array [0,3,1,6,2,2,7]."
      ],
      "metadata": {
        "id": "nU0te48emmio"
      }
    },
    {
      "cell_type": "code",
      "source": [
        "class Solution:\n",
        "    def lengthOfLIS(self, nums) -> int:\n",
        "        res = []\n",
        "        \n",
        "        def binarySearch(l, r, target):\n",
        "            nonlocal res\n",
        "            \n",
        "            if l == r:\n",
        "                return l\n",
        "            m = (r-l) // 2 + l\n",
        "            \n",
        "            if res[m] == target:\n",
        "                return m\n",
        "            elif res[m] < target:\n",
        "                return binarySearch(m+1, r, target)\n",
        "            else:\n",
        "                return binarySearch(l, m, target)\n",
        "            \n",
        "        for n in nums:\n",
        "            if not res or res[-1] < n:\n",
        "                res.append(n)\n",
        "                continue\n",
        "                \n",
        "            i = binarySearch(0, len(res)-1, n)\n",
        "            res[i] = n\n",
        "        return len(res)"
      ],
      "metadata": {
        "id": "jEMCLFqT-B_5"
      },
      "execution_count": null,
      "outputs": []
    },
    {
      "cell_type": "markdown",
      "source": [
        "Aug 9\n",
        "\n",
        "Given an array of unique integers, arr, where each integer arr[i] is strictly greater than 1.\n",
        "\n",
        "We make a binary tree using these integers, and each number may be used for any number of times. Each non-leaf node's value should be equal to the product of the values of its children.\n",
        "\n",
        "Return the number of binary trees we can make. The answer may be too large so return the answer modulo 109 + 7."
      ],
      "metadata": {
        "id": "qe2uOsdzxbSB"
      }
    },
    {
      "cell_type": "code",
      "source": [
        "class Solution:\n",
        "    def numFactoredBinaryTrees(self, arr) -> int:\n",
        "        mod = 10**9+7\n",
        "        n = len(arr)\n",
        "        arr.sort()\n",
        "        dp = [1]*n\n",
        "        index = {x: i for i, x in enumerate(arr)}\n",
        "        for i, x in enumerate(arr):\n",
        "            for j in range(i):\n",
        "                if x%arr[j] == 0:\n",
        "                    right = x/arr[j]\n",
        "                    if right in index:\n",
        "                        dp[i] += dp[j] * dp[index[right]]\n",
        "                        dp[i] %= mod\n",
        "        return sum(dp)%mod"
      ],
      "metadata": {
        "id": "q24Nm6WLm6JS"
      },
      "execution_count": null,
      "outputs": []
    },
    {
      "cell_type": "markdown",
      "source": [
        "Aug 10\n",
        "\n",
        "Given an integer array nums where the elements are sorted in ascending order, convert it to a height-balanced binary search tree.\n",
        "\n",
        "A height-balanced binary tree is a binary tree in which the depth of the two subtrees of every node never differs by more than one."
      ],
      "metadata": {
        "id": "xkksefEcyEti"
      }
    },
    {
      "cell_type": "code",
      "source": [
        "class TreeNode:\n",
        "  \n",
        "  def __init__(self, val=0, left=None, right=None):\n",
        "\n",
        "   self.val = val\n",
        "   self.left = left\n",
        "   self.right = right\n",
        "\n",
        "class Solution:\n",
        "    def sortedArrayToBST(self, nums):\n",
        "\n",
        "      total_nums = len(nums)\n",
        "      if not total_nums:\n",
        "          return None\n",
        "        \n",
        "      mid_node = total_nums // 2\n",
        "      return TreeNode(nums[mid_node], self.sortedArrayToBST(nums[:mid_node]), self.sortedArrayToBST(nums[mid_node+1:]))"
      ],
      "metadata": {
        "id": "d5M9kT7exm38"
      },
      "execution_count": null,
      "outputs": []
    },
    {
      "cell_type": "markdown",
      "source": [
        "Aug 11\n",
        "\n",
        "Given the root of a binary tree, determine if it is a valid binary search tree (BST).\n",
        "\n",
        "A valid BST is defined as follows:\n",
        "\n",
        "The left subtree of a node contains only nodes with keys less than the node's key.\n",
        "The right subtree of a node contains only nodes with keys greater than the node's key.\n",
        "Both the left and right subtrees must also be binary search trees."
      ],
      "metadata": {
        "id": "F7eKQIuzF_ql"
      }
    },
    {
      "cell_type": "code",
      "source": [
        "class Solution:\n",
        "  def isValidBST(self, root, low = -2**31-1, high = 2**31+1) -> bool:\n",
        "      return (not root) or ((low<root.val<high) and self.isValidBST(root.left, low, root.val) and self.isValidBST(root.right, root.val, high))"
      ],
      "metadata": {
        "id": "qbvKbLWryisJ"
      },
      "execution_count": null,
      "outputs": []
    },
    {
      "cell_type": "markdown",
      "source": [
        "Aug 12\n",
        "\n",
        "Given a binary search tree (BST), find the lowest common ancestor (LCA) node of two given nodes in the BST.\n",
        "\n",
        "According to the definition of LCA on Wikipedia: “The lowest common ancestor is defined between two nodes p and q as the lowest node in T that has both p and q as descendants (where we allow a node to be a descendant of itself).”"
      ],
      "metadata": {
        "id": "r6tJ-GWuFaO7"
      }
    },
    {
      "cell_type": "code",
      "source": [
        "class Solution:\n",
        "    def lowestCommonAncestor(self, root: 'TreeNode', p: 'TreeNode', q: 'TreeNode') -> 'TreeNode':\n",
        "        if (root == p or root == q or not root):\n",
        "            return root\n",
        "        \n",
        "        left = self.lowestCommonAncestor(root.left, p, q)\n",
        "        right = self.lowestCommonAncestor(root.right, p, q)\n",
        "        \n",
        "        if left and right:\n",
        "            return root\n",
        "        elif left:\n",
        "            return left\n",
        "        else:\n",
        "            return right"
      ],
      "metadata": {
        "id": "DAJ5Vx26GNrm"
      },
      "execution_count": null,
      "outputs": []
    },
    {
      "cell_type": "markdown",
      "source": [
        "Aug 13\n",
        "\n",
        "You are given a string s and an array of strings words of the same length. Return all starting indices of substring(s) in s that is a concatenation of each word in words exactly once, in any order, and without any intervening characters.\n",
        "\n",
        "You can return the answer in any order."
      ],
      "metadata": {
        "id": "xM-Tbr8hQ8oh"
      }
    },
    {
      "cell_type": "code",
      "source": [
        "class Solution:\n",
        "    def findSubstring(self, s: str, words):\n",
        "\n",
        "      n = len(s)\n",
        "      k = len(words)\n",
        "      word_length = len(words[0])\n",
        "      sub_size = word_length * k\n",
        "      word_count = collections.Counter(words)\n",
        "        \n",
        "      def check(i):\n",
        "          rem = word_count.copy()\n",
        "          words_used = 0\n",
        "            \n",
        "          for j in range(i, i+sub_size, word_length):\n",
        "\n",
        "            sub = s[j:j+word_length]\n",
        "            if rem[sub]>0:\n",
        "\n",
        "\n",
        "              rem[sub] -= 1\n",
        "              words_used += 1\n",
        "            else:\n",
        "\n",
        "              break\n",
        "            \n",
        "          return words_used == k\n",
        "\n",
        "\n",
        "        \n",
        "          ans = []\n",
        "          for i in range(n-sub_size+1):\n",
        "\n",
        "            if check(i):\n",
        "\n",
        "\n",
        "              ans.append(i)\n",
        "        \n",
        "          return ans"
      ],
      "metadata": {
        "id": "iGLvgZToFoYD"
      },
      "execution_count": null,
      "outputs": []
    },
    {
      "cell_type": "markdown",
      "source": [
        "Aug 14\n",
        "\n",
        "A transformation sequence from word beginWord to word endWord using a dictionary wordList is a sequence of words beginWord -> s1 -> s2 -> ... -> sk such that:\n",
        "\n",
        "Every adjacent pair of words differs by a single letter.\n",
        "Every si for 1 <= i <= k is in wordList. Note that beginWord does not need to be in wordList.\n",
        "sk == endWord\n",
        "Given two words, beginWord and endWord, and a dictionary wordList, return all the shortest transformation sequences from beginWord to endWord, or an empty list if no such sequence exists. Each sequence should be returned as a list of the words [beginWord, s1, s2, ..., sk]."
      ],
      "metadata": {
        "id": "KBl0UK-w8POn"
      }
    },
    {
      "cell_type": "code",
      "source": [
        "class Solution:\n",
        "    def findLadders(self, beginWord, endWord, wordList):\n",
        "\n",
        "      d = defaultdict(list)\n",
        "      for word in wordList:\n",
        "          for i in range(len(word)):\n",
        "              d[word[:i] + \"*\" + word[i+1:]].append(word)\n",
        "      if endWord not in wordList:\n",
        "          return []\n",
        "        \n",
        "      visited1 = defaultdict(list)\n",
        "      q1 = deque([beginWord])\n",
        "      visited1[beginWord] = []\n",
        "        \n",
        "      visited2 = defaultdict(list)\n",
        "      q2 = deque([endWord])\n",
        "      visited2[endWord] = []\n",
        "        \n",
        "      ans = []\n",
        "        \n",
        "      def dfs(v, visited, path, paths):\n",
        "          path.append(v)\n",
        "          if not visited[v]:\n",
        "\n",
        "            if visited is visited1:\n",
        "\n",
        "              paths.append(path[::-1])\n",
        "            else:\n",
        "              paths.append(path[:])\n",
        "            \n",
        "          for u in visited[v]:\n",
        "\n",
        "            dfs(u, visited, path, paths)\n",
        "          path.pop()\n",
        "            \n",
        "      def bfs(q, visited1, visited2, frombegin):\n",
        "\n",
        "        level_visited = defaultdict(list)\n",
        "        for _ in range(len(q)):\n",
        "\n",
        "          u = q.popleft()\n",
        "                \n",
        "          for i in range(len(u)):\n",
        "\n",
        "            for v in d[u[:i] + \"*\" + u[i+1:]]:\n",
        "              if v in visited2:\n",
        "                paths1 = []\n",
        "                paths2 = []\n",
        "                dfs(u, visited1, [], paths1)\n",
        "                dfs(v, visited2, [], paths2)\n",
        "                if not frombegin:\n",
        "                  paths1, paths2 = paths2, paths1\n",
        "                  for a in paths1:\n",
        "                    for b in paths2:\n",
        "                      ans.append(a+b)\n",
        "                elif v not in visited1:\n",
        "                    if v not in level_visited:\n",
        "\n",
        "                      q.append(v)\n",
        "                      level_visited[v].append(u)\n",
        "        visited1.update(level_visited)\n",
        "      while q1 and q2 and not ans:\n",
        "        if len(q1) <= len(q2):\n",
        "\n",
        "          bfs(q1, visited1, visited2, True)\n",
        "        else:\n",
        "          bfs(q2, visited2, visited1, False)\n",
        "      return ans"
      ],
      "metadata": {
        "id": "pNodaHcaRetd"
      },
      "execution_count": null,
      "outputs": []
    },
    {
      "cell_type": "markdown",
      "source": [
        "Aug 15\n",
        "\n",
        "Roman numerals are represented by seven different symbols: I, V, X, L, C, D and M.\n",
        "\n",
        "Symbol       Value\n",
        "I             1\n",
        "V             5\n",
        "X             10\n",
        "L             50\n",
        "C             100\n",
        "D             500\n",
        "M             1000\n",
        "For example, 2 is written as II in Roman numeral, just two ones added together. 12 is written as XII, which is simply X + II. The number 27 is written as XXVII, which is XX + V + II.\n",
        "\n",
        "Roman numerals are usually written largest to smallest from left to right. However, the numeral for four is not IIII. Instead, the number four is written as IV. Because the one is before the five we subtract it making four. The same principle applies to the number nine, which is written as IX. There are six instances where subtraction is used:\n",
        "\n",
        "I can be placed before V (5) and X (10) to make 4 and 9. \n",
        "X can be placed before L (50) and C (100) to make 40 and 90. \n",
        "C can be placed before D (500) and M (1000) to make 400 and 900.\n",
        "Given a roman numeral, convert it to an integer."
      ],
      "metadata": {
        "id": "z48HbkMptTcT"
      }
    },
    {
      "cell_type": "code",
      "source": [
        "class Solution:\n",
        "    def romanToInt(self, s: str) -> int:\n",
        "        roman_to_integer = {\n",
        "            'I' : 1,\n",
        "            'V' : 5,\n",
        "            'X' : 10,\n",
        "            'L' : 50,\n",
        "            'C' : 100,\n",
        "            'D' : 500,\n",
        "            'M' : 1000\n",
        "        }\n",
        "        s = s.replace('IV', 'IIII').replace('IX', 'VIIII').replace('XL', 'XXXX').replace('XC', 'LXXXX').replace('CD', 'CCCC').replace('CM', 'DCCCC')\n",
        "        return sum(map(lambda x: roman_to_integer[x], s))"
      ],
      "metadata": {
        "id": "e9YQI9E995Qq"
      },
      "execution_count": null,
      "outputs": []
    },
    {
      "cell_type": "markdown",
      "source": [
        "Aug 16\n",
        "\n",
        "Given a string s, find the first non-repeating character in it and return its index. If it does not exist, return -1."
      ],
      "metadata": {
        "id": "gXrVl3tWHzZp"
      }
    },
    {
      "cell_type": "code",
      "source": [
        "class Solution:\n",
        "    def firstUniqChar(self, s: str) -> int:\n",
        "        count = collections.Counter(s)\n",
        "        for idx, ch in enumerate(s):\n",
        "            if count[ch] == 1:\n",
        "                return idx\n",
        "        return -1"
      ],
      "metadata": {
        "id": "md_3Hu0Ate_o"
      },
      "execution_count": null,
      "outputs": []
    },
    {
      "cell_type": "markdown",
      "source": [
        "Aug 17\n",
        "\n",
        "International Morse Code defines a standard encoding where each letter is mapped to a series of dots and dashes, as follows:\n",
        "\n",
        "'a' maps to \".-\",\n",
        "'b' maps to \"-...\",\n",
        "'c' maps to \"-.-.\", and so on.\n",
        "For convenience, the full table for the 26 letters of the English alphabet is given below:\n",
        "\n",
        "[\".-\",\"-...\",\"-.-.\",\"-..\",\".\",\"..-.\",\"--.\",\"....\",\"..\",\".---\",\"-.-\",\".-..\",\"--\",\"-.\",\"---\",\".--.\",\"--.-\",\".-.\",\"...\",\"-\",\"..-\",\"...-\",\".--\",\"-..-\",\"-.--\",\"--..\"]\n",
        "Given an array of strings words where each word can be written as a concatenation of the Morse code of each letter.\n",
        "\n",
        "For example, \"cab\" can be written as \"-.-..--...\", which is the concatenation of \"-.-.\", \".-\", and \"-...\". We will call such a concatenation the transformation of a word.\n",
        "Return the number of different transformations among all words we have."
      ],
      "metadata": {
        "id": "TFeBtpH57Ykn"
      }
    },
    {
      "cell_type": "code",
      "source": [
        "class Solution:\n",
        "    def uniqueMorseRepresentations(self, words) -> int:\n",
        "\n",
        "      MORSE = [\".-\",\"-...\",\"-.-.\",\"-..\",\".\",\"..-.\",\"--.\",\n",
        "                 \"....\",\"..\",\".---\",\"-.-\",\".-..\",\"--\",\"-.\",\n",
        "                 \"---\",\".--.\",\"--.-\",\".-.\",\"...\",\"-\",\"..-\",\n",
        "                 \"...-\",\".--\",\"-..-\",\"-.--\",\"--..\"]\n",
        "        \n",
        "      seen = {\"\".join(MORSE[ord(c)-ord('a')] for c in word) for word in words}\n",
        "      return len(seen)"
      ],
      "metadata": {
        "id": "l7drZyygH_qR"
      },
      "execution_count": null,
      "outputs": []
    },
    {
      "cell_type": "markdown",
      "source": [
        "Aug 18\n",
        "\n",
        "You are given an integer array arr. You can choose a set of integers and remove all the occurrences of these integers in the array.\n",
        "\n",
        "Return the minimum size of the set so that at least half of the integers of the array are removed."
      ],
      "metadata": {
        "id": "LRAgsMjYASbv"
      }
    },
    {
      "cell_type": "code",
      "source": [
        "class Solution:\n",
        "    def minSetSize(self, arr) -> int:\n",
        "\n",
        "      tot_count = 0\n",
        "        \n",
        "      for index, count in enumerate(sorted(collections.Counter(arr).values(), reverse = True)):\n",
        "          tot_count += count\n",
        "          if tot_count >= len(arr) // 2:\n",
        "              return index + 1\n",
        "      return 0"
      ],
      "metadata": {
        "id": "WyF8KxGS7lmZ"
      },
      "execution_count": null,
      "outputs": []
    },
    {
      "cell_type": "markdown",
      "source": [
        "Aug 19\n",
        "\n",
        "You are given an integer array nums that is sorted in non-decreasing order.\n",
        "\n",
        "Determine if it is possible to split nums into one or more subsequences such that both of the following conditions are true:\n",
        "\n",
        "Each subsequence is a consecutive increasing sequence (i.e. each integer is exactly one more than the previous integer).\n",
        "All subsequences have a length of 3 or more.\n",
        "Return true if you can split nums according to the above conditions, or false otherwise.\n",
        "\n",
        "A subsequence of an array is a new array that is formed from the original array by deleting some (can be none) of the elements without disturbing the relative positions of the remaining elements. (i.e., [1,3,5] is a subsequence of [1,2,3,4,5] while [1,3,2] is not)."
      ],
      "metadata": {
        "id": "IpFdbk2JLt1N"
      }
    },
    {
      "cell_type": "code",
      "source": [
        "class Solution:\n",
        "    def isPossible(self, nums) -> bool:\n",
        "\n",
        "      seq = defaultdict(int)\n",
        "      left = Counter(nums)\n",
        "        \n",
        "      for num in nums:\n",
        "          if (not left[num]):\n",
        "              continue\n",
        "          if (seq[num-1] > 0):\n",
        "              seq[num-1] -= 1\n",
        "              seq[num] += 1\n",
        "              left[num] -= 1\n",
        "                \n",
        "          else:\n",
        "              if (not left[num+1] or not left[num+2]):\n",
        "\n",
        "                return False\n",
        "              left[num] -= 1\n",
        "              left[num+1] -= 1\n",
        "              left[num+2] -= 1\n",
        "              seq[num+2] += 1\n",
        "                \n",
        "      return True"
      ],
      "metadata": {
        "id": "XY6QaDADCtSt"
      },
      "execution_count": null,
      "outputs": []
    },
    {
      "cell_type": "markdown",
      "source": [
        "Aug 20\n",
        "\n",
        "A car travels from a starting position to a destination which is target miles east of the starting position.\n",
        "\n",
        "There are gas stations along the way. The gas stations are represented as an array stations where stations[i] = [positioni, fueli] indicates that the ith gas station is positioni miles east of the starting position and has fueli liters of gas.\n",
        "\n",
        "The car starts with an infinite tank of gas, which initially has startFuel liters of fuel in it. It uses one liter of gas per one mile that it drives. When the car reaches a gas station, it may stop and refuel, transferring all the gas from the station into the car.\n",
        "\n",
        "Return the minimum number of refueling stops the car must make in order to reach its destination. If it cannot reach the destination, return -1.\n",
        "\n",
        "Note that if the car reaches a gas station with 0 fuel left, the car can still refuel there. If the car reaches the destination with 0 fuel left, it is still considered to have arrived."
      ],
      "metadata": {
        "id": "K1hamjCzUrCF"
      }
    },
    {
      "cell_type": "code",
      "source": [
        "class Solution:\n",
        "    def minRefuelStops(self, target, startFuel, stations):\n",
        "\n",
        "      pq = []\n",
        "      stations.append((target, float('inf')))\n",
        "        \n",
        "      ans = prev = 0\n",
        "      for location, capacity in stations:\n",
        "          startFuel -= location - prev\n",
        "          while pq and startFuel < 0:\n",
        "\n",
        "\n",
        "            startFuel += -heapq.heappop(pq)\n",
        "            ans += 1\n",
        "                \n",
        "          if startFuel < 0:\n",
        "\n",
        "            return -1\n",
        "          heapq.heappush(pq, -capacity)\n",
        "          prev = location\n",
        "        \n",
        "      return ans"
      ],
      "metadata": {
        "id": "r1qo0aOaMOvM"
      },
      "execution_count": null,
      "outputs": []
    },
    {
      "cell_type": "markdown",
      "source": [
        "Aug 21\n",
        "\n",
        "You are given two strings stamp and target. Initially, there is a string s of length target.length with all s[i] == '?'.\n",
        "\n",
        "In one turn, you can place stamp over s and replace every letter in the s with the corresponding letter from stamp.\n",
        "\n",
        "For example, if stamp = \"abc\" and target = \"abcba\", then s is \"?????\" initially. In one turn you can:\n",
        "place stamp at index 0 of s to obtain \"abc??\",\n",
        "place stamp at index 1 of s to obtain \"?abc?\", or\n",
        "place stamp at index 2 of s to obtain \"??abc\".\n",
        "Note that stamp must be fully contained in the boundaries of s in order to stamp (i.e., you cannot place stamp at index 3 of s).\n",
        "We want to convert s to target using at most 10 * target.length turns.\n",
        "\n",
        "Return an array of the index of the left-most letter being stamped at each turn. If we cannot obtain target from s within 10 * target.length turns, return an empty array."
      ],
      "metadata": {
        "id": "FPtE9F8cJryA"
      }
    },
    {
      "cell_type": "code",
      "source": [
        "class Solution:\n",
        "    def movesToStamp(self, stamp: str, target: str):\n",
        "\n",
        "      M, N = len(stamp), len(target)\n",
        "        \n",
        "      queue = collections.deque()\n",
        "      done = [False] * N\n",
        "      ans = []\n",
        "      A = []\n",
        "        \n",
        "      for i in range(N-M+1):\n",
        "\n",
        "\n",
        "        made, todo = set(), set()\n",
        "        for j, c in enumerate(stamp):\n",
        "\n",
        "          a = target[i+j]\n",
        "          if a == c:\n",
        "\n",
        "\n",
        "            made.add(i+j)\n",
        "          else:\n",
        "            todo.add(i+j)\n",
        "        A.append((made, todo))\n",
        "            \n",
        "        if not todo:\n",
        "\n",
        "          ans.append(i)\n",
        "          for j in range(i, i+len(stamp)):\n",
        "\n",
        "            if not done[j]:\n",
        "\n",
        "\n",
        "              queue.append(j)\n",
        "              done[j] = True\n",
        "        \n",
        "      while queue:\n",
        "\n",
        "\n",
        "        i = queue.popleft()\n",
        "            \n",
        "        for j in range(max(0, i-M+1), min(N-M, i)+1):\n",
        "            if i in A[j][1]:\n",
        "\n",
        "              A[j][1].discard(i)\n",
        "              if not A[j][1]:\n",
        "\n",
        "                ans.append(j)\n",
        "                for m in A[j][0]:\n",
        "\n",
        "                  if not done[m]:\n",
        "\n",
        "                    queue.append(m)\n",
        "                    done[m] = True\n",
        "      return ans[::-1] if all(done) else []"
      ],
      "metadata": {
        "id": "af2vMCnWVBoY"
      },
      "execution_count": null,
      "outputs": []
    },
    {
      "cell_type": "markdown",
      "source": [
        "Aug 22\n",
        "\n",
        "Given an integer n, return true if it is a power of four. Otherwise, return false.\n",
        "\n",
        "An integer n is a power of four, if there exists an integer x such that n == 4x."
      ],
      "metadata": {
        "id": "VktWX8z3vLVt"
      }
    },
    {
      "cell_type": "code",
      "source": [
        "class Solution:\n",
        "    def isPowerOfFour(self, n: int) -> bool:\n",
        "        return n>0 and not(n &(n-1)) and n & 1431655765 == n"
      ],
      "metadata": {
        "id": "3z619hLmLIo-"
      },
      "execution_count": 1,
      "outputs": []
    },
    {
      "cell_type": "code",
      "source": [
        ""
      ],
      "metadata": {
        "id": "Bkwi6ucpvQ5x"
      },
      "execution_count": null,
      "outputs": []
    }
  ]
}